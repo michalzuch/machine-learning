{
 "cells": [
  {
   "cell_type": "markdown",
   "metadata": {},
   "source": [
    "## Hierarchical methods"
   ]
  },
  {
   "cell_type": "markdown",
   "metadata": {},
   "source": [
    "We have two different types of hierarchical methods:\n",
    "- agglomerative,\n",
    "- divisive.\n",
    "\n",
    "Both methods base on dendrograms, a structure that looks like a tree, dividing or merging the cluster at each level. The agglomerative method merge clusters until we get one cluster with all objects. The divisive method divide one cluster into two at each stage. We end if we get clusters where each consits of one object only."
   ]
  },
  {
   "cell_type": "markdown",
   "metadata": {},
   "source": [
    "## Libraries and functions\n",
    "\n",
    "For implementing both methods we use only two libaries are needed and one function that was used in previous notebooks."
   ]
  },
  {
   "cell_type": "code",
   "execution_count": 1,
   "metadata": {
    "ExecuteTime": {
     "end_time": "2024-03-27T11:24:59.691383Z",
     "start_time": "2024-03-27T11:24:59.540835Z"
    }
   },
   "outputs": [],
   "source": [
    "from math import sqrt\n",
    "\n",
    "import numpy as np\n",
    "\n",
    "\n",
    "def calculate_distance(x, v):\n",
    "    return sqrt((x[0] - v[0]) ** 2 + (x[1] - v[1]) ** 2)"
   ]
  },
  {
   "cell_type": "markdown",
   "metadata": {},
   "source": [
    "## Agglomerative clustering\n",
    "\n",
    "We need to keep the dendrogram and the history, so we can easily draw it."
   ]
  },
  {
   "cell_type": "code",
   "execution_count": 2,
   "metadata": {
    "ExecuteTime": {
     "end_time": "2024-03-27T11:24:59.706155Z",
     "start_time": "2024-03-27T11:24:59.698629Z"
    }
   },
   "outputs": [],
   "source": [
    "data_set = []\n",
    "%store -r data_set \n",
    "\n",
    "distance_matrix = np.zeros((len(data_set), len(data_set)))\n",
    "current_dendrograms = []\n",
    "\n",
    "for iter in range(len(data_set)):\n",
    "    current_dendrograms.append(data_set[iter])"
   ]
  },
  {
   "cell_type": "markdown",
   "metadata": {},
   "source": [
    "Pydot enables to use graphviz to visualize a dendrogram."
   ]
  },
  {
   "cell_type": "code",
   "execution_count": 3,
   "metadata": {
    "ExecuteTime": {
     "end_time": "2024-03-27T11:24:59.737701Z",
     "start_time": "2024-03-27T11:24:59.710497Z"
    }
   },
   "outputs": [],
   "source": [
    "import pydot"
   ]
  },
  {
   "cell_type": "markdown",
   "metadata": {},
   "source": [
    "The tree object is the root where each edge is added."
   ]
  },
  {
   "cell_type": "code",
   "execution_count": 4,
   "metadata": {
    "ExecuteTime": {
     "end_time": "2024-03-27T11:24:59.744013Z",
     "start_time": "2024-03-27T11:24:59.740759Z"
    }
   },
   "outputs": [],
   "source": [
    "tree = pydot.Dot(graph_type='graph')"
   ]
  },
  {
   "cell_type": "markdown",
   "metadata": {},
   "source": [
    "In agglomerative we merge two clusters together on each step:"
   ]
  },
  {
   "cell_type": "code",
   "execution_count": 5,
   "metadata": {
    "ExecuteTime": {
     "end_time": "2024-03-27T11:24:59.747481Z",
     "start_time": "2024-03-27T11:24:59.745114Z"
    }
   },
   "outputs": [],
   "source": [
    "def merge_elements(current_dendrograms, merged_list, i):\n",
    "    if isinstance(current_dendrograms[i][0], type(np.array([]))):\n",
    "        for iter in range(len(current_dendrograms[i])):\n",
    "            merged_list.append(current_dendrograms[i][iter])\n",
    "    else:\n",
    "        merged_list.append(current_dendrograms[i])\n",
    "    return merged_list"
   ]
  },
  {
   "cell_type": "markdown",
   "metadata": {},
   "source": [
    "We need to set the current dendrogram level at each step:"
   ]
  },
  {
   "cell_type": "code",
   "execution_count": 6,
   "metadata": {
    "ExecuteTime": {
     "end_time": "2024-03-27T11:24:59.772040Z",
     "start_time": "2024-03-27T11:24:59.764363Z"
    }
   },
   "outputs": [],
   "source": [
    "def set_current_dendrogram(current_dendrograms, dendrograms_hist, i, j):\n",
    "    elements = []\n",
    "    hist = []\n",
    "    current_hist = dendrograms_hist[-1]\n",
    "    for iter in range(len(current_dendrograms)):\n",
    "        if iter != i and iter != j:\n",
    "            elements.append(current_dendrograms[iter])\n",
    "            hist.append(current_hist[iter])\n",
    "    merged_elements = []\n",
    "    merged_elements = merge_elements(current_dendrograms, merged_elements, i)\n",
    "    merged_elements = merge_elements(current_dendrograms, merged_elements, j)\n",
    "    elements.append(merged_elements)\n",
    "    hist.append([current_hist[i], current_hist[j]])\n",
    "    dendrograms_hist.append(hist)\n",
    "    current_dendrograms = elements\n",
    "    return current_dendrograms, dendrograms_hist"
   ]
  },
  {
   "cell_type": "markdown",
   "metadata": {},
   "source": [
    "At each stage a distance matrix needs to be calculated:"
   ]
  },
  {
   "cell_type": "code",
   "execution_count": 7,
   "metadata": {
    "ExecuteTime": {
     "end_time": "2024-03-27T11:24:59.838837Z",
     "start_time": "2024-03-27T11:24:59.835976Z"
    }
   },
   "outputs": [],
   "source": [
    "def calculate_dendogram_distance_matrix(current_dendrograms, distance_matrix):\n",
    "    distance_matrix = np.zeros((len(current_dendrograms), len(current_dendrograms)))\n",
    "    for i in range(len(current_dendrograms)):\n",
    "        for j in range(len(current_dendrograms)):\n",
    "            distance_matrix[i, j] = calculate_distance(calculate_centroid(current_dendrograms[i]),\n",
    "                                                       calculate_centroid(current_dendrograms[j]))\n",
    "    return distance_matrix"
   ]
  },
  {
   "cell_type": "markdown",
   "metadata": {},
   "source": [
    "The code abobve needs the centroids' average:"
   ]
  },
  {
   "cell_type": "code",
   "execution_count": 8,
   "metadata": {
    "ExecuteTime": {
     "end_time": "2024-03-27T11:24:59.856764Z",
     "start_time": "2024-03-27T11:24:59.852708Z"
    }
   },
   "outputs": [],
   "source": [
    "def calculate_centroid(dendrogram_elements):\n",
    "    if type(dendrogram_elements) is list:\n",
    "        sumof = np.zeros(len(dendrogram_elements[0]))\n",
    "        for iter in range(len(dendrogram_elements)):\n",
    "            sumof = np.add(sumof, np.array(dendrogram_elements[iter]))\n",
    "        if sumof.shape == (len(data_set[0]), len(data_set[0])):\n",
    "            pass\n",
    "        return np.divide(sumof * 1.0, len(dendrogram_elements) * 1.0)\n",
    "    else:\n",
    "        return dendrogram_elements"
   ]
  },
  {
   "cell_type": "markdown",
   "metadata": {},
   "source": [
    "For agglomerative we take the lowest distance from the distance matrix:"
   ]
  },
  {
   "cell_type": "code",
   "execution_count": 9,
   "metadata": {
    "ExecuteTime": {
     "end_time": "2024-03-27T11:24:59.863536Z",
     "start_time": "2024-03-27T11:24:59.860378Z"
    }
   },
   "outputs": [],
   "source": [
    "def get_lowest_from_distance_matrix(distance_matrix):\n",
    "    lowest_indexes = [0, 1]\n",
    "    lowest_value = distance_matrix[0, 1]\n",
    "    for i in range(len(distance_matrix)):\n",
    "        for j in range(len(distance_matrix)):\n",
    "            if i != j:\n",
    "                if lowest_value > distance_matrix[i, j]:\n",
    "                    lowest_value = distance_matrix[i, j]\n",
    "                    lowest_indexes = [i, j]\n",
    "    return lowest_indexes"
   ]
  },
  {
   "cell_type": "markdown",
   "metadata": {},
   "source": [
    "Combine it together:"
   ]
  },
  {
   "cell_type": "code",
   "execution_count": 10,
   "metadata": {
    "ExecuteTime": {
     "end_time": "2024-03-27T11:24:59.870041Z",
     "start_time": "2024-03-27T11:24:59.865418Z"
    }
   },
   "outputs": [],
   "source": [
    "def cluster_agg(current_dendrograms, distance_matrix):\n",
    "    dendrograms_hist = [list(range(len(data_set)))]\n",
    "    for iter in range(len(current_dendrograms) - 1):\n",
    "        distance_matrix = calculate_dendogram_distance_matrix(current_dendrograms, distance_matrix)\n",
    "        [i, j] = get_lowest_from_distance_matrix(distance_matrix)\n",
    "        current_dendrograms, dendrograms_hist = set_current_dendrogram(current_dendrograms, dendrograms_hist, i, j)\n",
    "    return dendrograms_hist"
   ]
  },
  {
   "cell_type": "markdown",
   "metadata": {},
   "source": [
    "And execute it:"
   ]
  },
  {
   "cell_type": "code",
   "execution_count": 11,
   "metadata": {
    "ExecuteTime": {
     "end_time": "2024-03-27T11:24:59.876559Z",
     "start_time": "2024-03-27T11:24:59.872049Z"
    }
   },
   "outputs": [],
   "source": [
    "dendrogram_hist_agg = cluster_agg(current_dendrograms, distance_matrix)"
   ]
  },
  {
   "cell_type": "markdown",
   "metadata": {},
   "source": [
    "We use pydot to print the dendrogram:"
   ]
  },
  {
   "cell_type": "code",
   "execution_count": 12,
   "metadata": {
    "ExecuteTime": {
     "end_time": "2024-03-27T11:24:59.888126Z",
     "start_time": "2024-03-27T11:24:59.882816Z"
    }
   },
   "outputs": [],
   "source": [
    "def add_edge(level, acesor):\n",
    "    if acesor != level:\n",
    "        new_edge = pydot.Edge(str(acesor), str(level))\n",
    "        tree.add_edge(new_edge)\n",
    "    if isinstance(level, list):\n",
    "        add_edge(level[0], level)\n",
    "        add_edge(level[1], level)\n",
    "\n",
    "\n",
    "def show_tree_agg():\n",
    "    current_list = dendrogram_hist_agg.pop()\n",
    "    root = current_list.pop()\n",
    "    add_edge(root, root)\n",
    "    tree.write('tree_agg.png', format='png')"
   ]
  },
  {
   "cell_type": "markdown",
   "metadata": {},
   "source": [
    "Take a look at tree_agg.png if generated."
   ]
  },
  {
   "cell_type": "code",
   "execution_count": 13,
   "metadata": {
    "ExecuteTime": {
     "end_time": "2024-03-27T11:25:00.229464Z",
     "start_time": "2024-03-27T11:24:59.893363Z"
    }
   },
   "outputs": [
    {
     "ename": "FileNotFoundError",
     "evalue": "[Errno 2] \"dot\" not found in path.",
     "output_type": "error",
     "traceback": [
      "\u001B[0;31m---------------------------------------------------------------------------\u001B[0m",
      "\u001B[0;31mFileNotFoundError\u001B[0m                         Traceback (most recent call last)",
      "File \u001B[0;32m~/code/machine-learning/.venv/lib/python3.9/site-packages/pydot/core.py:1753\u001B[0m, in \u001B[0;36mDot.create\u001B[0;34m(self, prog, format, encoding)\u001B[0m\n\u001B[1;32m   1752\u001B[0m \u001B[38;5;28;01mtry\u001B[39;00m:\n\u001B[0;32m-> 1753\u001B[0m     stdout_data, stderr_data, process \u001B[38;5;241m=\u001B[39m \u001B[43mcall_graphviz\u001B[49m\u001B[43m(\u001B[49m\n\u001B[1;32m   1754\u001B[0m \u001B[43m        \u001B[49m\u001B[43mprogram\u001B[49m\u001B[38;5;241;43m=\u001B[39;49m\u001B[43mprog\u001B[49m\u001B[43m,\u001B[49m\n\u001B[1;32m   1755\u001B[0m \u001B[43m        \u001B[49m\u001B[43marguments\u001B[49m\u001B[38;5;241;43m=\u001B[39;49m\u001B[43marguments\u001B[49m\u001B[43m,\u001B[49m\n\u001B[1;32m   1756\u001B[0m \u001B[43m        \u001B[49m\u001B[43mworking_dir\u001B[49m\u001B[38;5;241;43m=\u001B[39;49m\u001B[43mtmp_dir\u001B[49m\u001B[43m,\u001B[49m\n\u001B[1;32m   1757\u001B[0m \u001B[43m    \u001B[49m\u001B[43m)\u001B[49m\n\u001B[1;32m   1758\u001B[0m \u001B[38;5;28;01mexcept\u001B[39;00m \u001B[38;5;167;01mOSError\u001B[39;00m \u001B[38;5;28;01mas\u001B[39;00m e:\n",
      "File \u001B[0;32m~/code/machine-learning/.venv/lib/python3.9/site-packages/pydot/core.py:133\u001B[0m, in \u001B[0;36mcall_graphviz\u001B[0;34m(program, arguments, working_dir, **kwargs)\u001B[0m\n\u001B[1;32m    131\u001B[0m program_with_args \u001B[38;5;241m=\u001B[39m [program] \u001B[38;5;241m+\u001B[39m arguments\n\u001B[0;32m--> 133\u001B[0m process \u001B[38;5;241m=\u001B[39m \u001B[43msubprocess\u001B[49m\u001B[38;5;241;43m.\u001B[39;49m\u001B[43mPopen\u001B[49m\u001B[43m(\u001B[49m\n\u001B[1;32m    134\u001B[0m \u001B[43m    \u001B[49m\u001B[43mprogram_with_args\u001B[49m\u001B[43m,\u001B[49m\n\u001B[1;32m    135\u001B[0m \u001B[43m    \u001B[49m\u001B[43menv\u001B[49m\u001B[38;5;241;43m=\u001B[39;49m\u001B[43menv\u001B[49m\u001B[43m,\u001B[49m\n\u001B[1;32m    136\u001B[0m \u001B[43m    \u001B[49m\u001B[43mcwd\u001B[49m\u001B[38;5;241;43m=\u001B[39;49m\u001B[43mworking_dir\u001B[49m\u001B[43m,\u001B[49m\n\u001B[1;32m    137\u001B[0m \u001B[43m    \u001B[49m\u001B[43mshell\u001B[49m\u001B[38;5;241;43m=\u001B[39;49m\u001B[38;5;28;43;01mFalse\u001B[39;49;00m\u001B[43m,\u001B[49m\n\u001B[1;32m    138\u001B[0m \u001B[43m    \u001B[49m\u001B[43mstderr\u001B[49m\u001B[38;5;241;43m=\u001B[39;49m\u001B[43msubprocess\u001B[49m\u001B[38;5;241;43m.\u001B[39;49m\u001B[43mPIPE\u001B[49m\u001B[43m,\u001B[49m\n\u001B[1;32m    139\u001B[0m \u001B[43m    \u001B[49m\u001B[43mstdout\u001B[49m\u001B[38;5;241;43m=\u001B[39;49m\u001B[43msubprocess\u001B[49m\u001B[38;5;241;43m.\u001B[39;49m\u001B[43mPIPE\u001B[49m\u001B[43m,\u001B[49m\n\u001B[1;32m    140\u001B[0m \u001B[43m    \u001B[49m\u001B[38;5;241;43m*\u001B[39;49m\u001B[38;5;241;43m*\u001B[39;49m\u001B[43mkwargs\u001B[49m\u001B[43m,\u001B[49m\n\u001B[1;32m    141\u001B[0m \u001B[43m\u001B[49m\u001B[43m)\u001B[49m\n\u001B[1;32m    142\u001B[0m stdout_data, stderr_data \u001B[38;5;241m=\u001B[39m process\u001B[38;5;241m.\u001B[39mcommunicate()\n",
      "File \u001B[0;32m/Library/Developer/CommandLineTools/Library/Frameworks/Python3.framework/Versions/3.9/lib/python3.9/subprocess.py:951\u001B[0m, in \u001B[0;36mPopen.__init__\u001B[0;34m(self, args, bufsize, executable, stdin, stdout, stderr, preexec_fn, close_fds, shell, cwd, env, universal_newlines, startupinfo, creationflags, restore_signals, start_new_session, pass_fds, user, group, extra_groups, encoding, errors, text, umask)\u001B[0m\n\u001B[1;32m    948\u001B[0m             \u001B[38;5;28mself\u001B[39m\u001B[38;5;241m.\u001B[39mstderr \u001B[38;5;241m=\u001B[39m io\u001B[38;5;241m.\u001B[39mTextIOWrapper(\u001B[38;5;28mself\u001B[39m\u001B[38;5;241m.\u001B[39mstderr,\n\u001B[1;32m    949\u001B[0m                     encoding\u001B[38;5;241m=\u001B[39mencoding, errors\u001B[38;5;241m=\u001B[39merrors)\n\u001B[0;32m--> 951\u001B[0m     \u001B[38;5;28;43mself\u001B[39;49m\u001B[38;5;241;43m.\u001B[39;49m\u001B[43m_execute_child\u001B[49m\u001B[43m(\u001B[49m\u001B[43margs\u001B[49m\u001B[43m,\u001B[49m\u001B[43m \u001B[49m\u001B[43mexecutable\u001B[49m\u001B[43m,\u001B[49m\u001B[43m \u001B[49m\u001B[43mpreexec_fn\u001B[49m\u001B[43m,\u001B[49m\u001B[43m \u001B[49m\u001B[43mclose_fds\u001B[49m\u001B[43m,\u001B[49m\n\u001B[1;32m    952\u001B[0m \u001B[43m                        \u001B[49m\u001B[43mpass_fds\u001B[49m\u001B[43m,\u001B[49m\u001B[43m \u001B[49m\u001B[43mcwd\u001B[49m\u001B[43m,\u001B[49m\u001B[43m \u001B[49m\u001B[43menv\u001B[49m\u001B[43m,\u001B[49m\n\u001B[1;32m    953\u001B[0m \u001B[43m                        \u001B[49m\u001B[43mstartupinfo\u001B[49m\u001B[43m,\u001B[49m\u001B[43m \u001B[49m\u001B[43mcreationflags\u001B[49m\u001B[43m,\u001B[49m\u001B[43m \u001B[49m\u001B[43mshell\u001B[49m\u001B[43m,\u001B[49m\n\u001B[1;32m    954\u001B[0m \u001B[43m                        \u001B[49m\u001B[43mp2cread\u001B[49m\u001B[43m,\u001B[49m\u001B[43m \u001B[49m\u001B[43mp2cwrite\u001B[49m\u001B[43m,\u001B[49m\n\u001B[1;32m    955\u001B[0m \u001B[43m                        \u001B[49m\u001B[43mc2pread\u001B[49m\u001B[43m,\u001B[49m\u001B[43m \u001B[49m\u001B[43mc2pwrite\u001B[49m\u001B[43m,\u001B[49m\n\u001B[1;32m    956\u001B[0m \u001B[43m                        \u001B[49m\u001B[43merrread\u001B[49m\u001B[43m,\u001B[49m\u001B[43m \u001B[49m\u001B[43merrwrite\u001B[49m\u001B[43m,\u001B[49m\n\u001B[1;32m    957\u001B[0m \u001B[43m                        \u001B[49m\u001B[43mrestore_signals\u001B[49m\u001B[43m,\u001B[49m\n\u001B[1;32m    958\u001B[0m \u001B[43m                        \u001B[49m\u001B[43mgid\u001B[49m\u001B[43m,\u001B[49m\u001B[43m \u001B[49m\u001B[43mgids\u001B[49m\u001B[43m,\u001B[49m\u001B[43m \u001B[49m\u001B[43muid\u001B[49m\u001B[43m,\u001B[49m\u001B[43m \u001B[49m\u001B[43mumask\u001B[49m\u001B[43m,\u001B[49m\n\u001B[1;32m    959\u001B[0m \u001B[43m                        \u001B[49m\u001B[43mstart_new_session\u001B[49m\u001B[43m)\u001B[49m\n\u001B[1;32m    960\u001B[0m \u001B[38;5;28;01mexcept\u001B[39;00m:\n\u001B[1;32m    961\u001B[0m     \u001B[38;5;66;03m# Cleanup if the child failed starting.\u001B[39;00m\n",
      "File \u001B[0;32m/Library/Developer/CommandLineTools/Library/Frameworks/Python3.framework/Versions/3.9/lib/python3.9/subprocess.py:1821\u001B[0m, in \u001B[0;36mPopen._execute_child\u001B[0;34m(self, args, executable, preexec_fn, close_fds, pass_fds, cwd, env, startupinfo, creationflags, shell, p2cread, p2cwrite, c2pread, c2pwrite, errread, errwrite, restore_signals, gid, gids, uid, umask, start_new_session)\u001B[0m\n\u001B[1;32m   1820\u001B[0m         err_msg \u001B[38;5;241m=\u001B[39m os\u001B[38;5;241m.\u001B[39mstrerror(errno_num)\n\u001B[0;32m-> 1821\u001B[0m     \u001B[38;5;28;01mraise\u001B[39;00m child_exception_type(errno_num, err_msg, err_filename)\n\u001B[1;32m   1822\u001B[0m \u001B[38;5;28;01mraise\u001B[39;00m child_exception_type(err_msg)\n",
      "\u001B[0;31mFileNotFoundError\u001B[0m: [Errno 2] No such file or directory: 'dot'",
      "\nDuring handling of the above exception, another exception occurred:\n",
      "\u001B[0;31mFileNotFoundError\u001B[0m                         Traceback (most recent call last)",
      "Cell \u001B[0;32mIn[13], line 1\u001B[0m\n\u001B[0;32m----> 1\u001B[0m \u001B[43mshow_tree_agg\u001B[49m\u001B[43m(\u001B[49m\u001B[43m)\u001B[49m\n",
      "Cell \u001B[0;32mIn[12], line 14\u001B[0m, in \u001B[0;36mshow_tree_agg\u001B[0;34m()\u001B[0m\n\u001B[1;32m     12\u001B[0m root \u001B[38;5;241m=\u001B[39m current_list\u001B[38;5;241m.\u001B[39mpop()\n\u001B[1;32m     13\u001B[0m add_edge(root, root)\n\u001B[0;32m---> 14\u001B[0m \u001B[43mtree\u001B[49m\u001B[38;5;241;43m.\u001B[39;49m\u001B[43mwrite\u001B[49m\u001B[43m(\u001B[49m\u001B[38;5;124;43m'\u001B[39;49m\u001B[38;5;124;43mtree_agg.png\u001B[39;49m\u001B[38;5;124;43m'\u001B[39;49m\u001B[43m,\u001B[49m\u001B[43m \u001B[49m\u001B[38;5;28;43mformat\u001B[39;49m\u001B[38;5;241;43m=\u001B[39;49m\u001B[38;5;124;43m'\u001B[39;49m\u001B[38;5;124;43mpng\u001B[39;49m\u001B[38;5;124;43m'\u001B[39;49m\u001B[43m)\u001B[49m\n",
      "File \u001B[0;32m~/code/machine-learning/.venv/lib/python3.9/site-packages/pydot/core.py:1662\u001B[0m, in \u001B[0;36mDot.write\u001B[0;34m(self, path, prog, format, encoding)\u001B[0m\n\u001B[1;32m   1660\u001B[0m         f\u001B[38;5;241m.\u001B[39mwrite(s)\n\u001B[1;32m   1661\u001B[0m \u001B[38;5;28;01melse\u001B[39;00m:\n\u001B[0;32m-> 1662\u001B[0m     s \u001B[38;5;241m=\u001B[39m \u001B[38;5;28;43mself\u001B[39;49m\u001B[38;5;241;43m.\u001B[39;49m\u001B[43mcreate\u001B[49m\u001B[43m(\u001B[49m\u001B[43mprog\u001B[49m\u001B[43m,\u001B[49m\u001B[43m \u001B[49m\u001B[38;5;28;43mformat\u001B[39;49m\u001B[43m,\u001B[49m\u001B[43m \u001B[49m\u001B[43mencoding\u001B[49m\u001B[38;5;241;43m=\u001B[39;49m\u001B[43mencoding\u001B[49m\u001B[43m)\u001B[49m\n\u001B[1;32m   1663\u001B[0m     \u001B[38;5;28;01mwith\u001B[39;00m io\u001B[38;5;241m.\u001B[39mopen(path, mode\u001B[38;5;241m=\u001B[39m\u001B[38;5;124m\"\u001B[39m\u001B[38;5;124mwb\u001B[39m\u001B[38;5;124m\"\u001B[39m) \u001B[38;5;28;01mas\u001B[39;00m f:\n\u001B[1;32m   1664\u001B[0m         f\u001B[38;5;241m.\u001B[39mwrite(s)\n",
      "File \u001B[0;32m~/code/machine-learning/.venv/lib/python3.9/site-packages/pydot/core.py:1762\u001B[0m, in \u001B[0;36mDot.create\u001B[0;34m(self, prog, format, encoding)\u001B[0m\n\u001B[1;32m   1760\u001B[0m     args \u001B[38;5;241m=\u001B[39m \u001B[38;5;28mlist\u001B[39m(e\u001B[38;5;241m.\u001B[39margs)\n\u001B[1;32m   1761\u001B[0m     args[\u001B[38;5;241m1\u001B[39m] \u001B[38;5;241m=\u001B[39m \u001B[38;5;124m'\u001B[39m\u001B[38;5;124m\"\u001B[39m\u001B[38;5;132;01m{prog}\u001B[39;00m\u001B[38;5;124m\"\u001B[39m\u001B[38;5;124m not found in path.\u001B[39m\u001B[38;5;124m'\u001B[39m\u001B[38;5;241m.\u001B[39mformat(prog\u001B[38;5;241m=\u001B[39mprog)\n\u001B[0;32m-> 1762\u001B[0m     \u001B[38;5;28;01mraise\u001B[39;00m \u001B[38;5;167;01mOSError\u001B[39;00m(\u001B[38;5;241m*\u001B[39margs)\n\u001B[1;32m   1763\u001B[0m \u001B[38;5;28;01melse\u001B[39;00m:\n\u001B[1;32m   1764\u001B[0m     \u001B[38;5;28;01mraise\u001B[39;00m\n",
      "\u001B[0;31mFileNotFoundError\u001B[0m: [Errno 2] \"dot\" not found in path."
     ]
    }
   ],
   "source": [
    "show_tree_agg()"
   ]
  },
  {
   "cell_type": "code",
   "execution_count": null,
   "metadata": {},
   "outputs": [],
   "source": [
    "from IPython.display import Image\n",
    "\n",
    "Image(filename='tree_agg.png')"
   ]
  },
  {
   "cell_type": "markdown",
   "metadata": {},
   "source": [
    "## Divisive clustering\n",
    "\n",
    "Compared to the previous methods, we do the same, but in the opposite direction. We setup the same data, but the current dendrogram contains the whole data set as one cluster. "
   ]
  },
  {
   "cell_type": "code",
   "execution_count": null,
   "metadata": {},
   "outputs": [],
   "source": [
    "tree = pydot.Dot(graph_type='graph')"
   ]
  },
  {
   "cell_type": "markdown",
   "metadata": {},
   "source": [
    "We use a more efficient solution for the distance matrix calculation. In the following example, we calculate it once and extract the distances every time needed. This is why the below method is invoked only once."
   ]
  },
  {
   "cell_type": "code",
   "execution_count": null,
   "metadata": {},
   "outputs": [],
   "source": [
    "def calculate_dendogram_distance_matrix_diana():\n",
    "    distance_matrix = np.zeros((len(data_set), len(data_set)))\n",
    "    for i in range(len(data_set)):\n",
    "        for j in range(len(data_set)):\n",
    "            distance_matrix[i, j] = calculate_distance(calculate_centroid(data_set[i]), calculate_centroid(data_set[j]))\n",
    "    return distance_matrix"
   ]
  },
  {
   "cell_type": "markdown",
   "metadata": {},
   "source": [
    "There are two new methods that needs to be implemented. The first one returns the cluster that needs to be divided:"
   ]
  },
  {
   "cell_type": "code",
   "execution_count": null,
   "metadata": {},
   "outputs": [],
   "source": [
    "def choose_cluster(current_level, distance_matrix):\n",
    "    if type(current_level[0]) != list:\n",
    "        both_idx = np.array(current_level)\n",
    "        current = distance_matrix[both_idx[:, None], both_idx]\n",
    "        diff = np.sum(current) / (current.shape[0] * current.shape[1] - len(current))\n",
    "        return current_level, diff, 0\n",
    "    highest_diff = 0\n",
    "    cluster_id = 0\n",
    "    for i in range(len(current_level)):\n",
    "        both_idx = np.array(current_level[i])\n",
    "        current = distance_matrix[both_idx[:, None], both_idx]\n",
    "        diff = np.sum(current) / (current.shape[0] * current.shape[1] - len(current))\n",
    "        if diff > highest_diff:\n",
    "            highest_diff = diff\n",
    "            cluster_id = i\n",
    "    return current_level[cluster_id], highest_diff, cluster_id"
   ]
  },
  {
   "cell_type": "markdown",
   "metadata": {},
   "source": [
    "The second method split the cluster into two clusters by counting the closest distances to each object in the cluster. Objects in both clusters are the closest ones."
   ]
  },
  {
   "cell_type": "code",
   "execution_count": null,
   "metadata": {},
   "outputs": [],
   "source": [
    "def split(split_cluster, distance_matrix, diff):\n",
    "    if len(split_cluster) == 2:\n",
    "        cluster1 = [split_cluster[0]]\n",
    "        cluster2 = [split_cluster[1]]\n",
    "        return cluster1, cluster2\n",
    "    split_threshold = diff\n",
    "    both_idx = np.array(split_cluster)\n",
    "    distances = distance_matrix[both_idx[:, None], both_idx]\n",
    "    c1keys, c1counts = np.unique(np.argwhere(distances > split_threshold), return_counts=True)\n",
    "    c2keys, c2counts = np.unique(np.argwhere(distances <= split_threshold), return_counts=True)\n",
    "    cluster1_counts = dict(zip(np.array(split_cluster)[c1keys], c1counts))\n",
    "    cluster2_counts = dict(zip(np.array(split_cluster)[c2keys], c2counts))\n",
    "    cluster1 = []\n",
    "    cluster2 = []\n",
    "    choice = 0\n",
    "    for item in split_cluster:\n",
    "        if item not in cluster1_counts.keys():\n",
    "            cluster2.append(item)\n",
    "            continue\n",
    "        if item not in cluster2_counts.keys():\n",
    "            cluster1.append(item)\n",
    "            continue\n",
    "        if cluster1_counts[item] < cluster2_counts[item]:\n",
    "            cluster2.append(item)\n",
    "        elif cluster1_counts[item] > cluster2_counts[item]:\n",
    "            cluster1.append(item)\n",
    "        else:\n",
    "            if choice == 0:\n",
    "                cluster2.append(item)\n",
    "                choice = 1\n",
    "            else:\n",
    "                cluster1.append(item)\n",
    "                choice = 0\n",
    "    return cluster1, cluster2"
   ]
  },
  {
   "cell_type": "markdown",
   "metadata": {},
   "source": [
    "Combine it all together:"
   ]
  },
  {
   "cell_type": "code",
   "execution_count": null,
   "metadata": {},
   "outputs": [],
   "source": [
    "def cluster():\n",
    "    dendrograms_history = []\n",
    "    current_dendrograms = [list(range(len(data_set)))]\n",
    "    distance_matrix = calculate_dendogram_distance_matrix_diana()\n",
    "    while len(current_dendrograms) != len(data_set):\n",
    "        current_level = current_dendrograms[-1]\n",
    "        current_cluster, diff, cluster_id = choose_cluster(current_level, distance_matrix)\n",
    "        cluster1, cluster2 = split(current_cluster, distance_matrix, diff)\n",
    "        if type(current_level[0]) != list:\n",
    "            current_dendrograms.append([cluster1, cluster2])\n",
    "        else:\n",
    "            rest = current_level.copy()\n",
    "            rest.pop(cluster_id)\n",
    "            rest.append(cluster1)\n",
    "            rest.append(cluster2)\n",
    "            current_dendrograms.append(rest)\n",
    "        hist = [{\"acesor\": current_cluster, \"childs\": [cluster1, cluster2]}]\n",
    "        dendrograms_history.append(hist)\n",
    "    return dendrograms_history"
   ]
  },
  {
   "cell_type": "markdown",
   "metadata": {},
   "source": [
    "We get the dendrogram levels with:"
   ]
  },
  {
   "cell_type": "code",
   "execution_count": null,
   "metadata": {},
   "outputs": [],
   "source": [
    "dendrogram_hist_diana = cluster()\n",
    "\n",
    "%store dendrogram_hist_diana"
   ]
  },
  {
   "cell_type": "markdown",
   "metadata": {},
   "source": [
    "The method that draw the dendrogram is a bit different compared to the agglomerative method:"
   ]
  },
  {
   "cell_type": "code",
   "execution_count": null,
   "metadata": {},
   "outputs": [],
   "source": [
    "def show_tree_divisive():\n",
    "    for item in dendrogram_hist_diana:\n",
    "        for child in item[0][\"childs\"]:\n",
    "            new_edge = pydot.Edge(str(item[0][\"acesor\"]), str(child))\n",
    "            tree.add_edge(new_edge)\n",
    "    tree.write('tree_diana.png', format='png')"
   ]
  },
  {
   "cell_type": "code",
   "execution_count": null,
   "metadata": {},
   "outputs": [],
   "source": [
    "show_tree_divisive()"
   ]
  },
  {
   "cell_type": "markdown",
   "metadata": {},
   "source": [
    "We can display the dendrogram the same as in the previous example:"
   ]
  },
  {
   "cell_type": "code",
   "execution_count": null,
   "metadata": {},
   "outputs": [],
   "source": [
    "from IPython.display import Image\n",
    "\n",
    "Image(filename='tree_diana.png') "
   ]
  }
 ],
 "metadata": {
  "kernelspec": {
   "display_name": "Python 3",
   "language": "python",
   "name": "python3"
  },
  "language_info": {
   "codemirror_mode": {
    "name": "ipython",
    "version": 3
   },
   "file_extension": ".py",
   "mimetype": "text/x-python",
   "name": "python",
   "nbconvert_exporter": "python",
   "pygments_lexer": "ipython3",
   "version": "3.6.9"
  }
 },
 "nbformat": 4,
 "nbformat_minor": 4
}
