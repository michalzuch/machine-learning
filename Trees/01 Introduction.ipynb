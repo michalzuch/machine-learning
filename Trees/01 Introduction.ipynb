{
 "cells": [
  {
   "cell_type": "markdown",
   "metadata": {},
   "source": [
    "# Decision trees\n",
    "\n",
    "In this section we cover the decision tree methods. We divided it into three parts:\n",
    "- univariate methods,\n",
    "- multivariate methods,\n",
    "- quality metrics.\n",
    "\n",
    "In the first two sections we show two different approaches on building decision trees. The last section is about methods that allow to measure the quality and improve the tree by reducing the number of leafs (pruning)."
   ]
  },
  {
   "cell_type": "markdown",
   "metadata": {},
   "source": [
    "## Idea\n",
    "\n",
    "Decision trees are one of the methods that is transparent on the decision it took while prediction. It build a set of leafs at each level based on a rule. It is easy to understand, because it can be also written as a set of rules that are human readable. The tree can be a binary as below or can divide on each level and generate more than two leafs.\n",
    "\n",
    "![](./../images/tree.png)"
   ]
  },
  {
   "cell_type": "markdown",
   "metadata": {},
   "source": [
    "The customer segmentation shown in the lectures looks as following:\n",
    "\n",
    "\n",
    "| Location|Category   | Gender | Product review  | Decision |\n",
    "|---------|-----------|--------|-----------------|--------|\n",
    "| Berlin | Furniture  | Male   | Checked Reviews | True |\n",
    "| London | Furniture  | Male   | Checked Reviews | False |\n",
    "| Berlin | Furniture  | Female | Checked Reviews | False|\n",
    "| Berlin | Textile    | Female | Checked Reviews | True |\n",
    "| London | Electronics| Male   | Checked Reviews | False |\n",
    "| London | Textile    | Female | Checked Reviews | False |\n",
    "| Paris  | Textile    | Male   | Did not checked | True |\n",
    "| Berlin | Electronics| Male   | Checked Reviews | True |\n",
    "| Paris  | Electronics| Male   | Did not checked | True |\n",
    "| London | Electronics| Female | Checked Reviews | True |\n",
    "| Paris  | Furniture  | Female | Did not checked | True |\n",
    "| Berlin | Textile    | Female | Did not checked | True |\n",
    "| London | Electronics| Female | Did not checked | False |\n",
    "| London | Furniture  | Female | Checked Reviews | False |\n",
    "| London | Textile    | Female | Did not checked | False |\n",
    "\n",
    "\n",
    "The data above can be represented as two variables ``labels`` that is the last column and ``data_set`` that represents the other columns."
   ]
  },
  {
   "cell_type": "code",
   "metadata": {},
   "source": [
    "\n",
    "\n",
    "labels = [1, 1, -1, 1, -1, -1, 1, 1, 1, 1, 1, 1, -1, -1, -1]\n",
    "data_set = [[1, 1, 2, 2], [2, 1, 2, 2], [1, 1, 1, 2], [1, 2, 1, 2], [2, 3, 2, 2],\n",
    "            [2, 2, 1, 2], [3, 2, 2, 1], [1, 3, 2, 2], [3, 3, 2, 1], [2, 3, 1, 2],\n",
    "            [3, 1, 1, 1], [1, 2, 1, 1], [2, 3, 1, 1], [2, 1, 1, 2], [2, 2, 1, 1]]"
   ],
   "outputs": [],
   "execution_count": null
  },
  {
   "cell_type": "markdown",
   "metadata": {},
   "source": [
    "The data set can be visualized using pandas as shown below."
   ]
  },
  {
   "cell_type": "code",
   "metadata": {},
   "source": [
    "import pandas as pd\n",
    "\n",
    "pd.DataFrame(data_set, columns=['Location', 'Category', 'Gender', 'Product review'])"
   ],
   "outputs": [],
   "execution_count": null
  },
  {
   "cell_type": "code",
   "metadata": {},
   "source": [
    "%store data_set\n",
    "%store labels"
   ],
   "outputs": [],
   "execution_count": null
  }
 ],
 "metadata": {
  "kernelspec": {
   "display_name": "Python 3 (ipykernel)",
   "language": "python",
   "name": "python3"
  },
  "language_info": {
   "codemirror_mode": {
    "name": "ipython",
    "version": 3
   },
   "file_extension": ".py",
   "mimetype": "text/x-python",
   "name": "python",
   "nbconvert_exporter": "python",
   "pygments_lexer": "ipython3",
   "version": "3.10.12"
  }
 },
 "nbformat": 4,
 "nbformat_minor": 4
}
