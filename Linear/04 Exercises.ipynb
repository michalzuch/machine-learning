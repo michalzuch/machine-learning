{
 "cells": [
  {
   "cell_type": "markdown",
   "metadata": {},
   "source": [
    "# Exercises\n",
    "\n",
    "There are three exercises in this notebook:\n",
    "\n",
    "1. Use the cross-validation method to test the linear regression with different $\\alpha$ values, at least three.\n",
    "2. Implement a SGD method that will train the Lasso regression for 10 epochs.\n",
    "3. Extend the Fisher's classifier to work with two features. Use the class as the $y$."
   ]
  },
  {
   "cell_type": "code",
   "outputs": [],
   "source": [
    "import numpy as np\n",
    "import pandas as pd\n",
    "from sklearn.datasets import load_iris\n",
    "from sklearn.linear_model import Lasso"
   ],
   "metadata": {
    "collapsed": false,
    "ExecuteTime": {
     "end_time": "2024-04-03T19:31:33.804779Z",
     "start_time": "2024-04-03T19:31:31.652622Z"
    }
   },
   "execution_count": 1
  },
  {
   "cell_type": "markdown",
   "metadata": {},
   "source": [
    "## 1. Cross-validation linear regression\n",
    "\n",
    "You need to change the variable ``alpha`` to be a list of alphas. Next do a loop and finally compare the results."
   ]
  },
  {
   "cell_type": "code",
   "execution_count": 2,
   "metadata": {
    "ExecuteTime": {
     "end_time": "2024-04-03T19:31:33.990580Z",
     "start_time": "2024-04-03T19:31:33.807396Z"
    }
   },
   "outputs": [
    {
     "data": {
      "text/plain": "   Alpha        Bias  Coefficient\n0  1.000  -20.590447     0.710486\n1  0.100 -101.723971     1.169788\n2  0.010 -167.855340     1.544160\n3  0.001 -179.526286     1.610230\n4  0.000 -180.924018     1.618142\n5 -0.001 -182.343685     1.626179\n6 -0.010 -196.199431     1.704617\n7 -0.100 -817.017374     5.219094\n8 -1.000   26.667097     0.442962",
      "text/html": "<div>\n<style scoped>\n    .dataframe tbody tr th:only-of-type {\n        vertical-align: middle;\n    }\n\n    .dataframe tbody tr th {\n        vertical-align: top;\n    }\n\n    .dataframe thead th {\n        text-align: right;\n    }\n</style>\n<table border=\"1\" class=\"dataframe\">\n  <thead>\n    <tr style=\"text-align: right;\">\n      <th></th>\n      <th>Alpha</th>\n      <th>Bias</th>\n      <th>Coefficient</th>\n    </tr>\n  </thead>\n  <tbody>\n    <tr>\n      <th>0</th>\n      <td>1.000</td>\n      <td>-20.590447</td>\n      <td>0.710486</td>\n    </tr>\n    <tr>\n      <th>1</th>\n      <td>0.100</td>\n      <td>-101.723971</td>\n      <td>1.169788</td>\n    </tr>\n    <tr>\n      <th>2</th>\n      <td>0.010</td>\n      <td>-167.855340</td>\n      <td>1.544160</td>\n    </tr>\n    <tr>\n      <th>3</th>\n      <td>0.001</td>\n      <td>-179.526286</td>\n      <td>1.610230</td>\n    </tr>\n    <tr>\n      <th>4</th>\n      <td>0.000</td>\n      <td>-180.924018</td>\n      <td>1.618142</td>\n    </tr>\n    <tr>\n      <th>5</th>\n      <td>-0.001</td>\n      <td>-182.343685</td>\n      <td>1.626179</td>\n    </tr>\n    <tr>\n      <th>6</th>\n      <td>-0.010</td>\n      <td>-196.199431</td>\n      <td>1.704617</td>\n    </tr>\n    <tr>\n      <th>7</th>\n      <td>-0.100</td>\n      <td>-817.017374</td>\n      <td>5.219094</td>\n    </tr>\n    <tr>\n      <th>8</th>\n      <td>-1.000</td>\n      <td>26.667097</td>\n      <td>0.442962</td>\n    </tr>\n  </tbody>\n</table>\n</div>"
     },
     "execution_count": 2,
     "metadata": {},
     "output_type": "execute_result"
    }
   ],
   "source": [
    "x = np.array([188, 181, 197, 168, 167, 187, 178, 194, 140, 176, 168, 192, 173, 142, 176]).reshape(-1, 1).reshape(15, 1)\n",
    "y = np.array([141, 106, 149, 59, 79, 136, 65, 136, 52, 87, 115, 140, 82, 69, 121]).reshape(-1, 1).reshape(15, 1)\n",
    "\n",
    "x = np.asmatrix(np.c_[np.ones((15, 1)), x])\n",
    "\n",
    "I = np.identity(2)\n",
    "alphas = [1.0, 0.1, 0.01, 0.001, 0.0, -0.001, -0.01, -0.1, -1.0]\n",
    "results = []\n",
    "\n",
    "for alpha in alphas:\n",
    "    w = np.linalg.inv(x.T * x + alpha * I) * x.T * y\n",
    "    w = w.ravel()\n",
    "\n",
    "    results.append([alpha, w.item(0), w.item(1)])\n",
    "\n",
    "results = pd.DataFrame(results, columns=['Alpha', 'Bias', 'Coefficient'])\n",
    "results\n",
    "\n"
   ]
  },
  {
   "cell_type": "markdown",
   "metadata": {},
   "source": [
    "## 2. Implement based on the Ridge regression example, the Lasso regression.\n",
    "\n",
    "Please implement the SGD method and compare the results with the sklearn Lasso regression results. "
   ]
  },
  {
   "cell_type": "code",
   "execution_count": 3,
   "metadata": {
    "ExecuteTime": {
     "end_time": "2024-04-03T19:31:34.063546Z",
     "start_time": "2024-04-03T19:31:34.050629Z"
    }
   },
   "outputs": [],
   "source": [
    "def sgd(X, y, alpha, epochs=10):\n",
    "    weights = np.zeros(X.shape[1])\n",
    "    bias = 1\n",
    "\n",
    "    for _ in range(epochs):\n",
    "        y_hat = X * weights + bias\n",
    "        error = y - y_hat\n",
    "        gradient_weights = -2 * np.sum(X * error) / np.power(np.linalg.norm(X), 2)\n",
    "        gradient_bias = -(2 / y.size) * np.sum(error)\n",
    "        weights -= alpha * gradient_weights\n",
    "        bias -= alpha * gradient_bias\n",
    "\n",
    "    return bias, weights"
   ]
  },
  {
   "cell_type": "code",
   "execution_count": 4,
   "metadata": {
    "ExecuteTime": {
     "end_time": "2024-04-03T19:31:46.042266Z",
     "start_time": "2024-04-03T19:31:34.068003Z"
    }
   },
   "outputs": [
    {
     "data": {
      "text/plain": "              Epochs        Bias  Coefficient\n0                  1   21.293333     0.117653\n1                 10   50.034916     0.301459\n2                100   33.152842     0.401022\n3               1000  -82.068370     1.056105\n4              10000 -180.880435     1.617895\n5             100000 -180.924018     1.618142\n6            1000000 -180.924018     1.618142\n7  Sklearn Reference -180.857909     1.617765",
      "text/html": "<div>\n<style scoped>\n    .dataframe tbody tr th:only-of-type {\n        vertical-align: middle;\n    }\n\n    .dataframe tbody tr th {\n        vertical-align: top;\n    }\n\n    .dataframe thead th {\n        text-align: right;\n    }\n</style>\n<table border=\"1\" class=\"dataframe\">\n  <thead>\n    <tr style=\"text-align: right;\">\n      <th></th>\n      <th>Epochs</th>\n      <th>Bias</th>\n      <th>Coefficient</th>\n    </tr>\n  </thead>\n  <tbody>\n    <tr>\n      <th>0</th>\n      <td>1</td>\n      <td>21.293333</td>\n      <td>0.117653</td>\n    </tr>\n    <tr>\n      <th>1</th>\n      <td>10</td>\n      <td>50.034916</td>\n      <td>0.301459</td>\n    </tr>\n    <tr>\n      <th>2</th>\n      <td>100</td>\n      <td>33.152842</td>\n      <td>0.401022</td>\n    </tr>\n    <tr>\n      <th>3</th>\n      <td>1000</td>\n      <td>-82.068370</td>\n      <td>1.056105</td>\n    </tr>\n    <tr>\n      <th>4</th>\n      <td>10000</td>\n      <td>-180.880435</td>\n      <td>1.617895</td>\n    </tr>\n    <tr>\n      <th>5</th>\n      <td>100000</td>\n      <td>-180.924018</td>\n      <td>1.618142</td>\n    </tr>\n    <tr>\n      <th>6</th>\n      <td>1000000</td>\n      <td>-180.924018</td>\n      <td>1.618142</td>\n    </tr>\n    <tr>\n      <th>7</th>\n      <td>Sklearn Reference</td>\n      <td>-180.857909</td>\n      <td>1.617765</td>\n    </tr>\n  </tbody>\n</table>\n</div>"
     },
     "execution_count": 4,
     "metadata": {},
     "output_type": "execute_result"
    }
   ],
   "source": [
    "x = np.array([188, 181, 197, 168, 167, 187, 178, 194, 140, 176, 168, 192, 173, 142, 176]).reshape(-1, 1).reshape(15, 1)\n",
    "y = np.array([141, 106, 149, 59, 79, 136, 65, 136, 52, 87, 115, 140, 82, 69, 121]).reshape(-1, 1).reshape(15, 1)\n",
    "\n",
    "alpha = 0.1\n",
    "results = []\n",
    "\n",
    "for i in range(7):\n",
    "    w = sgd(x, y, alpha, pow(10, i))\n",
    "    results.append([pow(10, i), w[0], w[1][0]])\n",
    "\n",
    "lasso = Lasso(alpha=alpha)\n",
    "lasso_result = lasso.fit(x, y)\n",
    "results.append(['Sklearn Reference', lasso_result.intercept_[0], lasso_result.coef_[0]])\n",
    "\n",
    "pd.DataFrame(results, columns=['Epochs', 'Bias', 'Coefficient'])"
   ]
  },
  {
   "cell_type": "markdown",
   "metadata": {},
   "source": [
    "## 3. Extend the Fisher's classifier\n",
    "\n",
    "Please extend the targets of the ``iris_data`` variable and use it as the $y$."
   ]
  },
  {
   "cell_type": "code",
   "execution_count": 5,
   "metadata": {
    "ExecuteTime": {
     "end_time": "2024-04-03T19:31:46.063084Z",
     "start_time": "2024-04-03T19:31:46.044165Z"
    }
   },
   "outputs": [
    {
     "data": {
      "text/plain": "     Predicted Sepal Width (cm)  Predicted Sepal Length (cm)\n0                      0.924785                     1.051418\n1                      0.885212                     1.035589\n2                      0.901042                     1.019760\n3                      0.893127                     1.011845\n4                      0.932700                     1.043504\n..                          ...                          ...\n145                    0.885212                     1.178051\n146                    0.845640                     1.146393\n147                    0.885212                     1.162222\n148                    0.916871                     1.138479\n149                    0.885212                     1.114735\n\n[150 rows x 2 columns]",
      "text/html": "<div>\n<style scoped>\n    .dataframe tbody tr th:only-of-type {\n        vertical-align: middle;\n    }\n\n    .dataframe tbody tr th {\n        vertical-align: top;\n    }\n\n    .dataframe thead th {\n        text-align: right;\n    }\n</style>\n<table border=\"1\" class=\"dataframe\">\n  <thead>\n    <tr style=\"text-align: right;\">\n      <th></th>\n      <th>Predicted Sepal Width (cm)</th>\n      <th>Predicted Sepal Length (cm)</th>\n    </tr>\n  </thead>\n  <tbody>\n    <tr>\n      <th>0</th>\n      <td>0.924785</td>\n      <td>1.051418</td>\n    </tr>\n    <tr>\n      <th>1</th>\n      <td>0.885212</td>\n      <td>1.035589</td>\n    </tr>\n    <tr>\n      <th>2</th>\n      <td>0.901042</td>\n      <td>1.019760</td>\n    </tr>\n    <tr>\n      <th>3</th>\n      <td>0.893127</td>\n      <td>1.011845</td>\n    </tr>\n    <tr>\n      <th>4</th>\n      <td>0.932700</td>\n      <td>1.043504</td>\n    </tr>\n    <tr>\n      <th>...</th>\n      <td>...</td>\n      <td>...</td>\n    </tr>\n    <tr>\n      <th>145</th>\n      <td>0.885212</td>\n      <td>1.178051</td>\n    </tr>\n    <tr>\n      <th>146</th>\n      <td>0.845640</td>\n      <td>1.146393</td>\n    </tr>\n    <tr>\n      <th>147</th>\n      <td>0.885212</td>\n      <td>1.162222</td>\n    </tr>\n    <tr>\n      <th>148</th>\n      <td>0.916871</td>\n      <td>1.138479</td>\n    </tr>\n    <tr>\n      <th>149</th>\n      <td>0.885212</td>\n      <td>1.114735</td>\n    </tr>\n  </tbody>\n</table>\n<p>150 rows × 2 columns</p>\n</div>"
     },
     "execution_count": 5,
     "metadata": {},
     "output_type": "execute_result"
    }
   ],
   "source": [
    "iris_data = load_iris()\n",
    "iris_df = pd.DataFrame(iris_data.data, columns=iris_data.feature_names)\n",
    "iris_df.head()\n",
    "iris_df['target'] = iris_data['target']\n",
    "\n",
    "x = iris_df[['sepal width (cm)', 'sepal length (cm)']].values\n",
    "y = iris_df['target'].values.reshape(-1, 1)\n",
    "\n",
    "dataset_size = np.size(x)\n",
    "\n",
    "mean_x, mean_y = np.mean(x), np.mean(y)\n",
    "\n",
    "SS_xy = np.sum(y * x) - dataset_size * mean_y * mean_x\n",
    "SS_xx = np.sum(x * x) - dataset_size * mean_x * mean_x\n",
    "\n",
    "a = SS_xy / SS_xx\n",
    "b = mean_y - a * mean_x\n",
    "\n",
    "y_pred = a * x + b\n",
    "\n",
    "pd.DataFrame(y_pred, columns=['Predicted Sepal Width (cm)', 'Predicted Sepal Length (cm)'])"
   ]
  }
 ],
 "metadata": {
  "kernelspec": {
   "display_name": "Python 3",
   "language": "python",
   "name": "python3"
  },
  "language_info": {
   "codemirror_mode": {
    "name": "ipython",
    "version": 3
   },
   "file_extension": ".py",
   "mimetype": "text/x-python",
   "name": "python",
   "nbconvert_exporter": "python",
   "pygments_lexer": "ipython3",
   "version": "3.6.9"
  }
 },
 "nbformat": 4,
 "nbformat_minor": 4
}
