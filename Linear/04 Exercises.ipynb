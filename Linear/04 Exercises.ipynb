{
 "cells": [
  {
   "cell_type": "markdown",
   "metadata": {},
   "source": [
    "# Exercises\n",
    "\n",
    "There are three exercises in this notebook:\n",
    "\n",
    "1. Use the cross-validation method to test the linear regression with different $\\alpha$ values, at least three.\n",
    "2. Implement a SGD method that will train the Lasso regression for 10 epochs.\n",
    "3. Extend the Fisher's classifier to work with two features. Use the class as the $y$."
   ]
  },
  {
   "cell_type": "code",
   "outputs": [],
   "source": [
    "import numpy as np\n",
    "import pandas as pd"
   ],
   "metadata": {
    "collapsed": false,
    "ExecuteTime": {
     "end_time": "2024-04-03T15:14:04.033147Z",
     "start_time": "2024-04-03T15:14:04.027446Z"
    }
   },
   "execution_count": 17
  },
  {
   "cell_type": "markdown",
   "metadata": {},
   "source": [
    "## 1. Cross-validation linear regression\n",
    "\n",
    "You need to change the variable ``alpha`` to be a list of alphas. Next do a loop and finally compare the results."
   ]
  },
  {
   "cell_type": "code",
   "execution_count": 20,
   "metadata": {
    "ExecuteTime": {
     "end_time": "2024-04-03T15:15:39.398297Z",
     "start_time": "2024-04-03T15:15:39.361909Z"
    }
   },
   "outputs": [
    {
     "data": {
      "text/plain": "   alpha          w0        w1\n0  1.000  -20.590447  0.710486\n1  0.100 -101.723971  1.169788\n2  0.010 -167.855340  1.544160\n3  0.001 -179.526286  1.610230\n4  0.000 -180.924018  1.618142\n5 -0.001 -182.343685  1.626179\n6 -0.010 -196.199431  1.704617\n7 -0.100 -817.017374  5.219094\n8 -1.000   26.667097  0.442962",
      "text/html": "<div>\n<style scoped>\n    .dataframe tbody tr th:only-of-type {\n        vertical-align: middle;\n    }\n\n    .dataframe tbody tr th {\n        vertical-align: top;\n    }\n\n    .dataframe thead th {\n        text-align: right;\n    }\n</style>\n<table border=\"1\" class=\"dataframe\">\n  <thead>\n    <tr style=\"text-align: right;\">\n      <th></th>\n      <th>alpha</th>\n      <th>w0</th>\n      <th>w1</th>\n    </tr>\n  </thead>\n  <tbody>\n    <tr>\n      <th>0</th>\n      <td>1.000</td>\n      <td>-20.590447</td>\n      <td>0.710486</td>\n    </tr>\n    <tr>\n      <th>1</th>\n      <td>0.100</td>\n      <td>-101.723971</td>\n      <td>1.169788</td>\n    </tr>\n    <tr>\n      <th>2</th>\n      <td>0.010</td>\n      <td>-167.855340</td>\n      <td>1.544160</td>\n    </tr>\n    <tr>\n      <th>3</th>\n      <td>0.001</td>\n      <td>-179.526286</td>\n      <td>1.610230</td>\n    </tr>\n    <tr>\n      <th>4</th>\n      <td>0.000</td>\n      <td>-180.924018</td>\n      <td>1.618142</td>\n    </tr>\n    <tr>\n      <th>5</th>\n      <td>-0.001</td>\n      <td>-182.343685</td>\n      <td>1.626179</td>\n    </tr>\n    <tr>\n      <th>6</th>\n      <td>-0.010</td>\n      <td>-196.199431</td>\n      <td>1.704617</td>\n    </tr>\n    <tr>\n      <th>7</th>\n      <td>-0.100</td>\n      <td>-817.017374</td>\n      <td>5.219094</td>\n    </tr>\n    <tr>\n      <th>8</th>\n      <td>-1.000</td>\n      <td>26.667097</td>\n      <td>0.442962</td>\n    </tr>\n  </tbody>\n</table>\n</div>"
     },
     "execution_count": 20,
     "metadata": {},
     "output_type": "execute_result"
    }
   ],
   "source": [
    "x = np.array([188, 181, 197, 168, 167, 187, 178, 194, 140, 176, 168, 192, 173, 142, 176]).reshape(-1, 1).reshape(15, 1)\n",
    "y = np.array([141, 106, 149, 59, 79, 136, 65, 136, 52, 87, 115, 140, 82, 69, 121]).reshape(-1, 1).reshape(15, 1)\n",
    "\n",
    "x = np.asmatrix(np.c_[np.ones((15, 1)), x])\n",
    "\n",
    "I = np.identity(2)\n",
    "alphas = [1.0, 0.1, 0.01, 0.001, 0.0, -0.001, -0.01, -0.1, -1.0]\n",
    "results = []\n",
    "\n",
    "for alpha in alphas:\n",
    "    w = np.linalg.inv(x.T * x + alpha * I) * x.T * y\n",
    "    w = w.ravel()\n",
    "    \n",
    "    results.append([alpha, w.item(0), w.item(1)])\n",
    "\n",
    "results = pd.DataFrame(results, columns=['alpha', 'w0', 'w1'])\n",
    "results\n",
    "\n"
   ]
  },
  {
   "cell_type": "markdown",
   "metadata": {},
   "source": [
    "## 2. Implement based on the Ridge regression example, the Lasso regression.\n",
    "\n",
    "Please implement the SGD method and compare the results with the sklearn Lasso regression results. "
   ]
  },
  {
   "cell_type": "code",
   "execution_count": null,
   "metadata": {},
   "outputs": [],
   "source": [
    "def sgd():\n",
    "    # your code goes here\n",
    "    pass"
   ]
  },
  {
   "cell_type": "code",
   "execution_count": null,
   "metadata": {},
   "outputs": [],
   "source": [
    "x = np.array([188, 181, 197, 168, 167, 187, 178, 194, 140, 176, 168, 192, 173, 142, 176]).reshape(-1, 1).reshape(15, 1)\n",
    "y = np.array([141, 106, 149, 59, 79, 136, 65, 136, 52, 87, 115, 140, 82, 69, 121]).reshape(-1, 1).reshape(15, 1)\n",
    "\n",
    "x = np.asmatrix(np.c_[np.ones((15, 1)), x])\n",
    "\n",
    "I = np.identity(2)\n",
    "alpha = 0.1\n",
    "\n",
    "w = np.linalg.inv(x.T * x + alpha * I) * x.T * y  # update this line\n",
    "w = w.ravel()\n"
   ]
  },
  {
   "cell_type": "markdown",
   "metadata": {},
   "source": [
    "## 3. Extend the Fisher's classifier\n",
    "\n",
    "Please extend the targets of the ``iris_data`` variable and use it as the $y$."
   ]
  },
  {
   "cell_type": "code",
   "execution_count": null,
   "metadata": {},
   "outputs": [],
   "source": [
    "import numpy as np\n",
    "import pandas as pd\n",
    "from sklearn.datasets import load_iris\n",
    "\n",
    "iris_data = load_iris()\n",
    "iris_df = pd.DataFrame(iris_data.data, columns=iris_data.feature_names)\n",
    "iris_df.head()\n",
    "\n",
    "x = iris_df['sepal width (cm)'].values  # change here\n",
    "y = iris_df['sepal length (cm)'].values  # change here\n",
    "\n",
    "dataset_size = np.size(x)\n",
    "\n",
    "mean_x, mean_y = np.mean(x), np.mean(y)\n",
    "\n",
    "SS_xy = np.sum(y * x) - dataset_size * mean_y * mean_x\n",
    "SS_xx = np.sum(x * x) - dataset_size * mean_x * mean_x\n",
    "\n",
    "a = SS_xy / SS_xx\n",
    "b = mean_y - a * mean_x\n",
    "\n",
    "y_pred = a * x + b"
   ]
  }
 ],
 "metadata": {
  "kernelspec": {
   "display_name": "Python 3",
   "language": "python",
   "name": "python3"
  },
  "language_info": {
   "codemirror_mode": {
    "name": "ipython",
    "version": 3
   },
   "file_extension": ".py",
   "mimetype": "text/x-python",
   "name": "python",
   "nbconvert_exporter": "python",
   "pygments_lexer": "ipython3",
   "version": "3.6.9"
  }
 },
 "nbformat": 4,
 "nbformat_minor": 4
}
